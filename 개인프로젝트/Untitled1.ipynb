{
  "nbformat": 4,
  "nbformat_minor": 0,
  "metadata": {
    "colab": {
      "provenance": []
    },
    "kernelspec": {
      "name": "python3",
      "display_name": "Python 3"
    },
    "language_info": {
      "name": "python"
    }
  },
  "cells": [
    {
      "cell_type": "code",
      "source": [
        "from google.colab import drive\n",
        "drive.mount('/content/drive')"
      ],
      "metadata": {
        "id": "TyHB6xsyLHdt"
      },
      "execution_count": null,
      "outputs": []
    },
    {
      "cell_type": "code",
      "execution_count": null,
      "metadata": {
        "id": "cDvkMRAMKYhc"
      },
      "outputs": [],
      "source": [
        "# 필요한 패키지 import\n",
        "import pandas as pd\n",
        "import nltk\n",
        "from nltk.tokenize import word_tokenize\n",
        "from nltk.corpus import stopwords\n",
        "from sklearn.feature_extraction.text import TfidfVectorizer\n",
        "from sklearn.linear_model import LogisticRegression\n",
        "from sklearn.model_selection import train_test_split\n",
        "from sklearn.metrics import accuracy_score"
      ]
    },
    {
      "cell_type": "code",
      "source": [
        "# 데이터 불러오기\n",
        "import pandas as pd\n",
        "data = pd.read_csv('/content/drive/MyDrive/SW 전문인재양성 2기/개인프로젝트/Open ai/twcs.csv')"
      ],
      "metadata": {
        "id": "bC0TTlo_Kntn"
      },
      "execution_count": null,
      "outputs": []
    },
    {
      "cell_type": "code",
      "source": [
        "data.head(5)"
      ],
      "metadata": {
        "id": "a7eRHPd2ZczC"
      },
      "execution_count": null,
      "outputs": []
    },
    {
      "cell_type": "markdown",
      "source": [
        "#### 데이터 전처리"
      ],
      "metadata": {
        "id": "IooBrHrfL7Yt"
      }
    },
    {
      "cell_type": "code",
      "source": [
        "# 불용어\n",
        "nltk.download('punkt')\n",
        "nltk.download('stopwords')"
      ],
      "metadata": {
        "id": "Dfe8tiYuKhnL"
      },
      "execution_count": null,
      "outputs": []
    },
    {
      "cell_type": "code",
      "source": [
        "def remove_stopwords(text):\n",
        "    tokens = word_tokenize(text.lower())\n",
        "    stop_words = set(stopwords.words('english'))\n",
        "    filtered_tokens = [token for token in tokens if token not in stop_words]\n",
        "    return ' '.join(filtered_tokens)"
      ],
      "metadata": {
        "id": "soo_lol5LPTz"
      },
      "execution_count": null,
      "outputs": []
    },
    {
      "cell_type": "code",
      "source": [
        "data['text'] = data['text'].apply(remove_stopwords)"
      ],
      "metadata": {
        "id": "5oz6ZSH7L-EX"
      },
      "execution_count": null,
      "outputs": []
    },
    {
      "cell_type": "markdown",
      "source": [
        "#### 감정 분석"
      ],
      "metadata": {
        "id": "XMNCAK2OoeVr"
      }
    },
    {
      "cell_type": "code",
      "source": [
        "import nltk\n",
        "from nltk.corpus import stopwords\n",
        "from nltk.tokenize import word_tokenize\n",
        "nltk.download('vader_lexicon')\n",
        "from nltk.sentiment.vader import SentimentIntensityAnalyzer"
      ],
      "metadata": {
        "id": "b0YjoYkba-bB"
      },
      "execution_count": null,
      "outputs": []
    },
    {
      "cell_type": "code",
      "source": [
        "# VADER SentimentIntensityAnalyzer 객체 생성\n",
        "analyzer = SentimentIntensityAnalyzer()"
      ],
      "metadata": {
        "id": "BY1tDVYZa516"
      },
      "execution_count": null,
      "outputs": []
    },
    {
      "cell_type": "code",
      "source": [
        "# 감정 점수 계산 함수 정의\n",
        "def calculate_sentiment_score(text):\n",
        "    # VADER SentimentIntensityAnalyzer를 사용하여 텍스트의 감정 점수 계산\n",
        "    sentiment_scores = analyzer.polarity_scores(text)\n",
        "    return sentiment_scores\n",
        ""
      ],
      "metadata": {
        "id": "4aH0WiYaexoy"
      },
      "execution_count": null,
      "outputs": []
    },
    {
      "cell_type": "code",
      "source": [
        "# 감정 점수 계산\n",
        "data['sentiment_scores'] = data['text'].apply(calculate_sentiment_score)"
      ],
      "metadata": {
        "id": "a1ZqHbp-cnpM"
      },
      "execution_count": null,
      "outputs": []
    },
    {
      "cell_type": "code",
      "source": [
        "# 감정 레이블 생성\n",
        "data['sentiment'] = data['sentiment_scores'].apply(lambda x: 1 if x['compound'] >= 0 else 0)"
      ],
      "metadata": {
        "id": "nNgrUJR-oaTW"
      },
      "execution_count": null,
      "outputs": []
    },
    {
      "cell_type": "code",
      "source": [
        "positive_scores = data['sentiment_scores'].apply(lambda x: x['pos'] if isinstance(x, dict) else None)\n",
        "negative_scores = data['sentiment_scores'].apply(lambda x: x['neg'] if isinstance(x, dict) else None)\n",
        "neutral_scores = data['sentiment_scores'].apply(lambda x: x['neu'] if isinstance(x, dict) else None)\n",
        "\n",
        "# 이후 시각화 코드를 추가하여 감정 점수를 시각적으로 확인하거나 출력합니다."
      ],
      "metadata": {
        "id": "6Cb81QZholVo"
      },
      "execution_count": null,
      "outputs": []
    },
    {
      "cell_type": "markdown",
      "source": [
        "#### 감정 분석 시각화"
      ],
      "metadata": {
        "id": "SRrLeMWerAl6"
      }
    },
    {
      "cell_type": "code",
      "source": [
        "positive_scores = data['sentiment_scores'].apply(lambda x: x['pos'] if isinstance(x, dict) else None)\n",
        "negative_scores = data['sentiment_scores'].apply(lambda x: x['neg'] if isinstance(x, dict) else None)\n",
        "neutral_scores = data['sentiment_scores'].apply(lambda x: x['neu'] if isinstance(x, dict) else None)"
      ],
      "metadata": {
        "id": "_6al0nM-q_Qo"
      },
      "execution_count": null,
      "outputs": []
    },
    {
      "cell_type": "code",
      "source": [
        "import matplotlib.pyplot as plt\n",
        "fig, ax = plt.subplots(figsize=(8, 6))\n",
        "index = range(len(data))\n",
        "bar_width = 0.3\n",
        "\n",
        "ax.bar(index, positive_scores, bar_width, label='Positive', color='g')\n",
        "ax.bar(index, negative_scores, bar_width, label='Negative', color='r', bottom=positive_scores)\n",
        "ax.bar(index, neutral_scores, bar_width, label='Neutral', color='b', bottom=[sum(x) for x in zip(positive_scores, negative_scores)])\n",
        "\n",
        "ax.set_xlabel('문장 인덱스')\n",
        "ax.set_ylabel('감정 점수')\n",
        "ax.set_title('감정 분석 결과')\n",
        "ax.set_xticks(index)\n",
        "ax.set_xticklabels(data.index)\n",
        "ax.legend()\n",
        "\n",
        "plt.tight_layout()\n",
        "plt.show()\n"
      ],
      "metadata": {
        "id": "KG5sfJmorO1O"
      },
      "execution_count": null,
      "outputs": []
    },
    {
      "cell_type": "markdown",
      "source": [
        "#### 성능 평가"
      ],
      "metadata": {
        "id": "-HoAu9XurqSv"
      }
    },
    {
      "cell_type": "code",
      "source": [
        "from sklearn.metrics import confusion_matrix, accuracy_score, precision_score, recall_score, f1_score\n",
        "\n",
        "# 감정 분석 결과 평가 함수 정의\n",
        "def evaluate_sentiment_analysis(y_true, y_pred):\n",
        "    # Confusion Matrix\n",
        "    cm = confusion_matrix(y_true, y_pred)\n",
        "    # 정확도\n",
        "    accuracy = accuracy_score(y_true, y_pred)\n",
        "    # 정밀도\n",
        "    precision = precision_score(y_true, y_pred)\n",
        "    # 재현율\n",
        "    recall = recall_score(y_true, y_pred)\n",
        "    # F1 스코어\n",
        "    f1 = f1_score(y_true, y_pred)\n",
        "\n",
        "    return cm, accuracy, precision, recall, f1"
      ],
      "metadata": {
        "id": "HPDkQSbWa6Ly"
      },
      "execution_count": null,
      "outputs": []
    },
    {
      "cell_type": "code",
      "source": [
        "import random\n",
        "\n",
        "# 임의의 y_true와 y_pred 생성 (0: 부정, 1: 긍정)\n",
        "y_true = [random.choice([0, 1]) for _ in range(len(data))]\n",
        "y_pred = [random.choice([0, 1]) for _ in range(len(data))]"
      ],
      "metadata": {
        "id": "aBMds7Rlbfqz"
      },
      "execution_count": null,
      "outputs": []
    },
    {
      "cell_type": "code",
      "source": [
        "cm, accuracy, precision, recall, f1 = evaluate_sentiment_analysis(y_true, y_pred)"
      ],
      "metadata": {
        "id": "wF9uSe9UgdrK"
      },
      "execution_count": null,
      "outputs": []
    },
    {
      "cell_type": "code",
      "source": [
        "# 평가 결과 출력\n",
        "print(\"Confusion Matrix:\")\n",
        "print(cm)\n",
        "print(\"Accuracy:\", accuracy)\n",
        "print(\"Precision:\", precision)\n",
        "print(\"Recall:\", recall)\n",
        "print(\"F1 Score:\", f1)"
      ],
      "metadata": {
        "id": "cBvf99LHge3O"
      },
      "execution_count": null,
      "outputs": []
    },
    {
      "cell_type": "markdown",
      "source": [
        "#### 간단한 테스트"
      ],
      "metadata": {
        "id": "nDubgswkr1ci"
      }
    },
    {
      "cell_type": "code",
      "source": [
        "test_sentence = \"Sorry. We will improve our servce\"\n",
        "sentiment_scores, sentiment = analyze_sentiment(test_sentence)\n",
        "# 결과 출력\n",
        "print(\"입력 문장:\", test_sentence)\n",
        "print(\"감정 점수:\", sentiment_scores)\n",
        "print(\"분류 결과:\", sentiment)\n"
      ],
      "metadata": {
        "id": "s1bWU6-OivRi"
      },
      "execution_count": null,
      "outputs": []
    },
    {
      "cell_type": "code",
      "source": [
        "!pip install matplotlib\n",
        "import matplotlib.pyplot as plt\n",
        "from nltk.sentiment.vader import SentimentIntensityAnalyzer"
      ],
      "metadata": {
        "id": "i14kvYvNi2kD"
      },
      "execution_count": null,
      "outputs": []
    }
  ]
}