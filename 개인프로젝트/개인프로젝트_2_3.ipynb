{
  "nbformat": 4,
  "nbformat_minor": 0,
  "metadata": {
    "colab": {
      "provenance": [],
      "authorship_tag": "ABX9TyP89itSqD4dW5njk0f6z2hU",
      "include_colab_link": true
    },
    "kernelspec": {
      "name": "python3",
      "display_name": "Python 3"
    },
    "language_info": {
      "name": "python"
    }
  },
  "cells": [
    {
      "cell_type": "markdown",
      "metadata": {
        "id": "view-in-github",
        "colab_type": "text"
      },
      "source": [
        "<a href=\"https://colab.research.google.com/github/DaeunKim9/Smart-factory/blob/main/%EA%B0%9C%EC%9D%B8%ED%94%84%EB%A1%9C%EC%A0%9D%ED%8A%B8/%EA%B0%9C%EC%9D%B8%ED%94%84%EB%A1%9C%EC%A0%9D%ED%8A%B8_2_3.ipynb\" target=\"_parent\"><img src=\"https://colab.research.google.com/assets/colab-badge.svg\" alt=\"Open In Colab\"/></a>"
      ]
    },
    {
      "cell_type": "code",
      "execution_count": null,
      "metadata": {
        "colab": {
          "base_uri": "https://localhost:8080/"
        },
        "id": "IpUP9-Iuj1Kg",
        "outputId": "ad2cffc9-748a-4cad-8e32-0c442f11f7e4"
      },
      "outputs": [
        {
          "output_type": "stream",
          "name": "stdout",
          "text": [
            "Mounted at /content/drive\n"
          ]
        }
      ],
      "source": [
        "from google.colab import drive\n",
        "drive.mount('/content/drive')"
      ]
    },
    {
      "cell_type": "code",
      "source": [
        "import tensorflow as tf\n",
        "import matplotlib.pyplot as plt\n",
        "import glob\n",
        "import os\n",
        "import cv2\n",
        "import math\n",
        "from keras import applications\n",
        "from keras.models import Sequential\n",
        "from keras.layers import Conv2D,MaxPooling2D,Convolution2D,Activation,Flatten,Dense,Dropout,MaxPool2D,BatchNormalization\n",
        "from keras.utils import to_categorical\n",
        "from keras.preprocessing.image import ImageDataGenerator"
      ],
      "metadata": {
        "id": "xSwBPSgGj9G8"
      },
      "execution_count": null,
      "outputs": []
    },
    {
      "cell_type": "code",
      "source": [
        "for i in range(len(images)):\n",
        "    try :\n",
        "        t = 'image'+str(i)\n",
        "        image = cv2.imread(images[i])\n",
        "        image = cv2.cvtColor(image, cv2.COLOR_BGR2RGB)\n",
        "        cv2.imwrite('./content/drive/MyDrive/SW 전문인재양성 2기/개인프로젝트/CNN/mvtec_anomaly_detection/bottle/{}'.format(t),cv2.cvtColor(image,cv2.COLOR_BGR2RGB))\n",
        "    except :\n",
        "        print(i)\n"
      ],
      "metadata": {
        "colab": {
          "base_uri": "https://localhost:8080/"
        },
        "id": "kFDoqcE5lL4m",
        "outputId": "7bcf7f5d-add4-4283-d3e4-9793d8e27693"
      },
      "execution_count": null,
      "outputs": [
        {
          "output_type": "stream",
          "name": "stdout",
          "text": [
            "0\n",
            "1\n"
          ]
        }
      ]
    },
    {
      "cell_type": "code",
      "source": [
        "images = glob.glob('/content/drive/MyDrive/SW 전문인재양성 2기/개인프로젝트/CNN/mvtec_anomaly_detection/bottle/*')"
      ],
      "metadata": {
        "id": "mrIGGnbWkBGJ"
      },
      "execution_count": null,
      "outputs": []
    },
    {
      "cell_type": "code",
      "source": [
        "\n",
        "base_dir = '/content/drive/MyDrive/SW 전문인재양성 2기/개인프로젝트/CNN/mvtec_anomaly_detection/bottle'\n",
        "label = os.path.basename(base_dir)"
      ],
      "metadata": {
        "id": "kgBvmTdtlFGv"
      },
      "execution_count": null,
      "outputs": []
    },
    {
      "cell_type": "markdown",
      "source": [
        "#### Augmentation\n",
        "\n",
        "broken_large/000.png -> 10장\n",
        "\n",
        "broken_large/001.png -> 10장\n",
        "\n",
        "broken_large/002.png -> 10장\n",
        "\n",
        "broken_large/003.png -> 10장\n",
        "\n",
        "broken_large/004.png -> 15장\n"
      ],
      "metadata": {
        "id": "KTVj50n5pPoH"
      }
    },
    {
      "cell_type": "code",
      "source": [
        "from keras.preprocessing.image import ImageDataGenerator\n",
        "from keras.utils.image_utils import img_to_array, array_to_img, load_img\n",
        "datagen = ImageDataGenerator(\n",
        "        rotation_range=40,\n",
        "        width_shift_range=0.2,\n",
        "        height_shift_range=0.2,\n",
        "        shear_range=0.2,\n",
        "        zoom_range=0.2,\n",
        "        horizontal_flip=True,\n",
        "        fill_mode='nearest')\n",
        "\n",
        "img = load_img('/content/drive/MyDrive/SW 전문인재양성 2기/개인프로젝트/CNN/mvtec_anomaly_detection/bottle/test/broken_large/000.png')  # PIL 이미지\n",
        "x = img_to_array(img)  # (3, 150, 150) 크기의 NumPy 배열\n",
        "x = x.reshape((1,) + x.shape)  # (1, 3, 150, 150) 크기의 NumPy 배열\n",
        "\n",
        "i = 0\n",
        "for batch in datagen.flow(x, batch_size=1,\n",
        "                          save_to_dir='/content/drive/MyDrive/SW 전문인재양성 2기/개인프로젝트/CNN/mvtec_anomaly_detection/bottle/test/broken_large', save_prefix='broken_large', save_format='png'):\n",
        "  i += 1\n",
        "  if i > 10:\n",
        "    break\n"
      ],
      "metadata": {
        "id": "kBh3tutAn35_"
      },
      "execution_count": null,
      "outputs": []
    },
    {
      "cell_type": "code",
      "source": [
        "img = load_img('/content/drive/MyDrive/SW 전문인재양성 2기/개인프로젝트/CNN/mvtec_anomaly_detection/bottle/test/broken_large/001.png')  # PIL 이미지\n",
        "x = img_to_array(img)  # (3, 150, 150) 크기의 NumPy 배열\n",
        "x = x.reshape((1,) + x.shape)  # (1, 3, 150, 150) 크기의 NumPy 배열\n",
        "\n",
        "i = 0\n",
        "for batch in datagen.flow(x, batch_size=1,save_to_dir='/content/drive/MyDrive/SW 전문인재양성 2기/개인프로젝트/CNN/mvtec_anomaly_detection/bottle/test/broken_large', save_prefix='broken_large', save_format='png'):\n",
        "  i += 1\n",
        "  if i > 10:\n",
        "    break"
      ],
      "metadata": {
        "id": "mGcIa0a3tAO3"
      },
      "execution_count": null,
      "outputs": []
    },
    {
      "cell_type": "code",
      "source": [
        "img = load_img('/content/drive/MyDrive/SW 전문인재양성 2기/개인프로젝트/CNN/mvtec_anomaly_detection/bottle/test/broken_large/002.png')  # PIL 이미지\n",
        "x = img_to_array(img)  # (3, 150, 150) 크기의 NumPy 배열\n",
        "x = x.reshape((1,) + x.shape)  # (1, 3, 150, 150) 크기의 NumPy 배열\n",
        "\n",
        "i = 0\n",
        "for batch in datagen.flow(x, batch_size=1,save_to_dir='/content/drive/MyDrive/SW 전문인재양성 2기/개인프로젝트/CNN/mvtec_anomaly_detection/bottle/test/broken_large', save_prefix='broken_large', save_format='png'):\n",
        "  i += 1\n",
        "  if i > 10:\n",
        "    break"
      ],
      "metadata": {
        "id": "uP6jlBTdqshA"
      },
      "execution_count": null,
      "outputs": []
    },
    {
      "cell_type": "code",
      "source": [
        "img = load_img('/content/drive/MyDrive/SW 전문인재양성 2기/개인프로젝트/CNN/mvtec_anomaly_detection/bottle/test/broken_large/003.png')  # PIL 이미지\n",
        "x = img_to_array(img)  # (3, 150, 150) 크기의 NumPy 배열\n",
        "x = x.reshape((1,) + x.shape)  # (1, 3, 150, 150) 크기의 NumPy 배열\n",
        "\n",
        "i = 0\n",
        "for batch in datagen.flow(x, batch_size=1,save_to_dir='/content/drive/MyDrive/SW 전문인재양성 2기/개인프로젝트/CNN/mvtec_anomaly_detection/bottle/test/broken_large', save_prefix='broken_large', save_format='png'):\n",
        "  i += 1\n",
        "  if i > 10:\n",
        "    break"
      ],
      "metadata": {
        "id": "qMPVqVIbs90v"
      },
      "execution_count": null,
      "outputs": []
    },
    {
      "cell_type": "code",
      "source": [
        "img = load_img('/content/drive/MyDrive/SW 전문인재양성 2기/개인프로젝트/CNN/mvtec_anomaly_detection/bottle/test/broken_large/004.png')  # PIL 이미지\n",
        "x = img_to_array(img)  # (3, 150, 150) 크기의 NumPy 배열\n",
        "x = x.reshape((1,) + x.shape)  # (1, 3, 150, 150) 크기의 NumPy 배열\n",
        "\n",
        "i = 0\n",
        "for batch in datagen.flow(x, batch_size=1,save_to_dir='/content/drive/MyDrive/SW 전문인재양성 2기/개인프로젝트/CNN/mvtec_anomaly_detection/bottle/test/broken_large', save_prefix='broken_large', save_format='png'):\n",
        "  i += 1\n",
        "  if i > 15:\n",
        "    break"
      ],
      "metadata": {
        "id": "DVB6LYEJsWEb"
      },
      "execution_count": null,
      "outputs": []
    },
    {
      "cell_type": "code",
      "source": [
        "img = load_img('/content/drive/MyDrive/SW 전문인재양성 2기/개인프로젝트/CNN/mvtec_anomaly_detection/bottle/test/broken_small/000.png')  # PIL 이미지\n",
        "x = img_to_array(img)  # (3, 150, 150) 크기의 NumPy 배열\n",
        "x = x.reshape((1,) + x.shape)  # (1, 3, 150, 150) 크기의 NumPy 배열\n",
        "\n",
        "i = 0\n",
        "for batch in datagen.flow(x, batch_size=1,save_to_dir='/content/drive/MyDrive/SW 전문인재양성 2기/개인프로젝트/CNN/mvtec_anomaly_detection/bottle/test/broken_small', save_prefix='broken_small', save_format='png'):\n",
        "  i += 1\n",
        "  if i > 55:\n",
        "    break"
      ],
      "metadata": {
        "id": "opnlivN8smaP"
      },
      "execution_count": null,
      "outputs": []
    },
    {
      "cell_type": "code",
      "source": [
        "img = load_img('/content/drive/MyDrive/SW 전문인재양성 2기/개인프로젝트/CNN/mvtec_anomaly_detection/bottle/test/contamination/000.png')  # PIL 이미지\n",
        "x = img_to_array(img)  # (3, 150, 150) 크기의 NumPy 배열\n",
        "x = x.reshape((1,) + x.shape)  # (1, 3, 150, 150) 크기의 NumPy 배열\n",
        "\n",
        "i = 0\n",
        "for batch in datagen.flow(x, batch_size=1,save_to_dir='/content/drive/MyDrive/SW 전문인재양성 2기/개인프로젝트/CNN/mvtec_anomaly_detection/bottle/test/contamination', save_prefix='contamination', save_format='png'):\n",
        "  i += 1\n",
        "  if i > 55:\n",
        "    break"
      ],
      "metadata": {
        "id": "w24Gg2Oztg2X"
      },
      "execution_count": null,
      "outputs": []
    },
    {
      "cell_type": "code",
      "source": [
        "data = []\n",
        "labels = []\n",
        "\n",
        "for folder in ['broken_large', 'broken_small', 'contamination', 'good']:\n",
        "    images = glob.glob('/content/drive/MyDrive/SW 전문인재양성 2기/개인프로젝트/CNN/mvtec_anomaly_detection/bottle/test/%s/*.*' %folder)\n",
        "\n",
        "    for i in range(len(images)):\n",
        "        image = cv2.imread(images[i])\n",
        "        try :\n",
        "            image = cv2.resize(image, (100,100))\n",
        "            image = tf.keras.preprocessing.image.img_to_array(image)\n",
        "            data.append(image)\n",
        "            labels.append(folder)\n",
        "        except :\n",
        "            pass\n",
        "    print(len(images),folder)"
      ],
      "metadata": {
        "id": "GXm3ifvalh5-",
        "colab": {
          "base_uri": "https://localhost:8080/"
        },
        "outputId": "3c5004f9-0f04-41c8-e6ee-7a9e4b9a1dd4"
      },
      "execution_count": 46,
      "outputs": [
        {
          "output_type": "stream",
          "name": "stdout",
          "text": [
            "54 broken_large\n",
            "78 broken_small\n",
            "77 contamination\n",
            "20 good\n"
          ]
        }
      ]
    },
    {
      "cell_type": "code",
      "source": [
        "for folder in ['good']:\n",
        "    images = glob.glob('/content/drive/MyDrive/SW 전문인재양성 2기/개인프로젝트/CNN/mvtec_anomaly_detection/bottle/train/%s/*.*' %folder)\n",
        "\n",
        "    for i in range(len(images)):\n",
        "        image = cv2.imread(images[i])\n",
        "        try :\n",
        "            image = cv2.resize(image, (100,100))\n",
        "            image = tf.keras.preprocessing.image.img_to_array(image)\n",
        "            data.append(image)\n",
        "            labels.append(folder)\n",
        "        except :\n",
        "            pass\n",
        "    print(len(images),folder)"
      ],
      "metadata": {
        "id": "g03Pkz0dnbAg",
        "colab": {
          "base_uri": "https://localhost:8080/"
        },
        "outputId": "4f43b3d1-21a3-44c2-eb71-441cc471e855"
      },
      "execution_count": 47,
      "outputs": [
        {
          "output_type": "stream",
          "name": "stdout",
          "text": [
            "209 good\n"
          ]
        }
      ]
    },
    {
      "cell_type": "code",
      "source": [
        "import numpy as np\n",
        "import pandas as pd\n",
        "data = np.array(data)\n",
        "label = np.array(labels)\n",
        "print(data.shape)"
      ],
      "metadata": {
        "colab": {
          "base_uri": "https://localhost:8080/"
        },
        "id": "YFZZmJQMnkL_",
        "outputId": "ac58865b-374f-47d2-feda-b234a458c32d"
      },
      "execution_count": 50,
      "outputs": [
        {
          "output_type": "stream",
          "name": "stdout",
          "text": [
            "(438, 100, 100, 3)\n"
          ]
        }
      ]
    },
    {
      "cell_type": "code",
      "source": [
        "type(label)"
      ],
      "metadata": {
        "colab": {
          "base_uri": "https://localhost:8080/"
        },
        "id": "GTBB9KwHvSSC",
        "outputId": "f2b07a70-b518-4f08-8cfe-90a60042296b"
      },
      "execution_count": 53,
      "outputs": [
        {
          "output_type": "execute_result",
          "data": {
            "text/plain": [
              "numpy.ndarray"
            ]
          },
          "metadata": {},
          "execution_count": 53
        }
      ]
    },
    {
      "cell_type": "code",
      "source": [
        "dict_ = {'broken_large':0,\n",
        "       'broken_small':1,\n",
        "       'contamination':2,\n",
        "       'good':3}\n",
        "label_dict = {0: 'broken_large', 1: 'broken_small',2: 'contamination', 3: 'normal'}\n",
        "label = np.vectorize(dict_.get)(label)"
      ],
      "metadata": {
        "id": "Sgd_utKZvrOH"
      },
      "execution_count": 62,
      "outputs": []
    },
    {
      "cell_type": "code",
      "source": [
        "label.shape"
      ],
      "metadata": {
        "id": "kwNESG5gkyqO",
        "colab": {
          "base_uri": "https://localhost:8080/"
        },
        "outputId": "0a293906-6ccb-4f6b-bf4a-b134d9487657"
      },
      "execution_count": 63,
      "outputs": [
        {
          "output_type": "execute_result",
          "data": {
            "text/plain": [
              "(438,)"
            ]
          },
          "metadata": {},
          "execution_count": 63
        }
      ]
    },
    {
      "cell_type": "code",
      "source": [
        "train_images_reshaped = data.reshape((-1, 100, 100,3))\n",
        "train_labels_reshaped = to_categorical(label, num_classes=4)"
      ],
      "metadata": {
        "colab": {
          "base_uri": "https://localhost:8080/",
          "height": 313
        },
        "id": "l93j8gnFwFvN",
        "outputId": "12dddaa9-954c-4d5f-f9fb-e7f617bdd3d0"
      },
      "execution_count": 64,
      "outputs": [
        {
          "output_type": "error",
          "ename": "TypeError",
          "evalue": "ignored",
          "traceback": [
            "\u001b[0;31m---------------------------------------------------------------------------\u001b[0m",
            "\u001b[0;31mTypeError\u001b[0m                                 Traceback (most recent call last)",
            "\u001b[0;32m<ipython-input-64-23a69d3db267>\u001b[0m in \u001b[0;36m<cell line: 2>\u001b[0;34m()\u001b[0m\n\u001b[1;32m      1\u001b[0m \u001b[0mtrain_images_reshaped\u001b[0m \u001b[0;34m=\u001b[0m \u001b[0mdata\u001b[0m\u001b[0;34m.\u001b[0m\u001b[0mreshape\u001b[0m\u001b[0;34m(\u001b[0m\u001b[0;34m(\u001b[0m\u001b[0;34m-\u001b[0m\u001b[0;36m1\u001b[0m\u001b[0;34m,\u001b[0m \u001b[0;36m100\u001b[0m\u001b[0;34m,\u001b[0m \u001b[0;36m100\u001b[0m\u001b[0;34m,\u001b[0m\u001b[0;36m3\u001b[0m\u001b[0;34m)\u001b[0m\u001b[0;34m)\u001b[0m\u001b[0;34m\u001b[0m\u001b[0;34m\u001b[0m\u001b[0m\n\u001b[0;32m----> 2\u001b[0;31m \u001b[0mtrain_labels_reshaped\u001b[0m \u001b[0;34m=\u001b[0m \u001b[0mto_categorical\u001b[0m\u001b[0;34m(\u001b[0m\u001b[0mlabel\u001b[0m\u001b[0;34m,\u001b[0m \u001b[0mnum_classes\u001b[0m\u001b[0;34m=\u001b[0m\u001b[0;36m4\u001b[0m\u001b[0;34m)\u001b[0m\u001b[0;34m\u001b[0m\u001b[0;34m\u001b[0m\u001b[0m\n\u001b[0m",
            "\u001b[0;32m/usr/local/lib/python3.10/dist-packages/keras/utils/np_utils.py\u001b[0m in \u001b[0;36mto_categorical\u001b[0;34m(y, num_classes, dtype)\u001b[0m\n\u001b[1;32m     60\u001b[0m     \u001b[0;34m[\u001b[0m\u001b[0;36m0.\u001b[0m \u001b[0;36m0.\u001b[0m \u001b[0;36m0.\u001b[0m \u001b[0;36m0.\u001b[0m\u001b[0;34m]\u001b[0m\u001b[0;34m\u001b[0m\u001b[0;34m\u001b[0m\u001b[0m\n\u001b[1;32m     61\u001b[0m     \"\"\"\n\u001b[0;32m---> 62\u001b[0;31m     \u001b[0my\u001b[0m \u001b[0;34m=\u001b[0m \u001b[0mnp\u001b[0m\u001b[0;34m.\u001b[0m\u001b[0marray\u001b[0m\u001b[0;34m(\u001b[0m\u001b[0my\u001b[0m\u001b[0;34m,\u001b[0m \u001b[0mdtype\u001b[0m\u001b[0;34m=\u001b[0m\u001b[0;34m\"int\"\u001b[0m\u001b[0;34m)\u001b[0m\u001b[0;34m\u001b[0m\u001b[0;34m\u001b[0m\u001b[0m\n\u001b[0m\u001b[1;32m     63\u001b[0m     \u001b[0minput_shape\u001b[0m \u001b[0;34m=\u001b[0m \u001b[0my\u001b[0m\u001b[0;34m.\u001b[0m\u001b[0mshape\u001b[0m\u001b[0;34m\u001b[0m\u001b[0;34m\u001b[0m\u001b[0m\n\u001b[1;32m     64\u001b[0m \u001b[0;34m\u001b[0m\u001b[0m\n",
            "\u001b[0;31mTypeError\u001b[0m: int() argument must be a string, a bytes-like object or a real number, not 'NoneType'"
          ]
        }
      ]
    },
    {
      "cell_type": "code",
      "source": [],
      "metadata": {
        "id": "oql5KpQNldR3"
      },
      "execution_count": null,
      "outputs": []
    },
    {
      "cell_type": "code",
      "source": [],
      "metadata": {
        "id": "drJ4QdVZwBwM"
      },
      "execution_count": null,
      "outputs": []
    }
  ]
}