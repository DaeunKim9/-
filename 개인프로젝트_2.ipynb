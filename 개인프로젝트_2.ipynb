{
  "nbformat": 4,
  "nbformat_minor": 0,
  "metadata": {
    "colab": {
      "provenance": [],
      "authorship_tag": "ABX9TyMUL8yYBXML5kYlFL2e5DRs",
      "include_colab_link": true
    },
    "kernelspec": {
      "name": "python3",
      "display_name": "Python 3"
    },
    "language_info": {
      "name": "python"
    }
  },
  "cells": [
    {
      "cell_type": "markdown",
      "metadata": {
        "id": "view-in-github",
        "colab_type": "text"
      },
      "source": [
        "<a href=\"https://colab.research.google.com/github/DaeunKim9/Smart-factory/blob/main/%EA%B0%9C%EC%9D%B8%ED%94%84%EB%A1%9C%EC%A0%9D%ED%8A%B8_2.ipynb\" target=\"_parent\"><img src=\"https://colab.research.google.com/assets/colab-badge.svg\" alt=\"Open In Colab\"/></a>"
      ]
    },
    {
      "cell_type": "markdown",
      "source": [
        "# 컴퓨터 비전을 활용한 생산 라인 불량 제품 자동 탐지 시스템 개발\n",
        "\n",
        "- 본 프로젝트의 목적은 컴퓨터 비전 기술을 이용하여 생산 라인에서 불량 제품을 자동으로 탐지하는 시스템을 개발하는 것입니다. 생산 과정에서 불량 제품을 신속하게 감지하고 분류하는 것은 생산 효율을 향상시키고 제품 품질을 보장하는데 매우 중요합니다.\n",
        "\n",
        "- 생산 과정의 효율성을 높이고, 제품 품질을 향상시키며, 생산비용을 줄일 수 있습니다. 또한 이 시스템은 다양한 생산 라인에서 불량 제품 탐지에 활용될 수 있으며, 컴퓨터 비전 및 인공지능 기술의 산업 분야에서의 응용 가능성을 확대시킵니다.\n",
        "\n",
        "- 목표\n",
        "\n",
        "  이미지 데이터를 활용하여 직접 외부에서 입력을 받아 불량 판단하는 API 모델 개발\n"
      ],
      "metadata": {
        "id": "HC4u-cXGcAM1"
      }
    },
    {
      "cell_type": "code",
      "source": [
        "# import packages\n",
        "import tensorflow as tf\n",
        "from tensorflow.keras.layers import Input, Conv2D, MaxPooling2D, Flatten, Dense\n",
        "from tensorflow.keras.models import Model"
      ],
      "metadata": {
        "id": "oAIJBq_bfYup"
      },
      "execution_count": 3,
      "outputs": []
    },
    {
      "cell_type": "markdown",
      "source": [
        "#### 데이터 불러오기"
      ],
      "metadata": {
        "id": "7favzmSfcXxa"
      }
    },
    {
      "cell_type": "code",
      "execution_count": null,
      "metadata": {
        "id": "fc1J07-Db8Cm"
      },
      "outputs": [],
      "source": [
        "(x_train, y_train),(x_test, y_test) = \"\""
      ]
    },
    {
      "cell_type": "markdown",
      "source": [
        "#### 데이터 전처리"
      ],
      "metadata": {
        "id": "tjGX9dcXcaH8"
      }
    },
    {
      "cell_type": "code",
      "source": [],
      "metadata": {
        "id": "mlwCEd3CfkHj"
      },
      "execution_count": null,
      "outputs": []
    },
    {
      "cell_type": "code",
      "source": [
        "# 데이터 샘플의 크기와 클래스 개수 설정\n",
        "input_shape = (1, 1, 3)\n",
        "num_classes = 10"
      ],
      "metadata": {
        "id": "Dj09wN7qfj_f"
      },
      "execution_count": null,
      "outputs": []
    },
    {
      "cell_type": "code",
      "source": [
        "# CNN 모델 구축\n",
        "def build_cnn_model(input_shape, num_classes):\n",
        "    inputs = Input(shape=input_shape)\n",
        "\n",
        "    # Convolutional layers\n",
        "    x = Conv2D(32, (3, 3), activation='relu', padding='same')(inputs)\n",
        "    x = MaxPooling2D((2, 2))(x)\n",
        "    x = Conv2D(64, (3, 3), activation='relu', padding='same')(x)\n",
        "    x = MaxPooling2D((2, 2))(x)\n",
        "    x = Conv2D(128, (3, 3), activation='relu', padding='same')(x)\n",
        "    x = MaxPooling2D((2, 2))(x)\n",
        "    x = Flatten()(x)\n",
        "\n",
        "    # 분류 작업을 위한 출력 레이어\n",
        "    classification_output = Dense(num_classes, activation='softmax', name='classification')(x)\n",
        "\n",
        "    # 회귀 작업을 위한 출력 레이어\n",
        "    regression_output = Dense(1, name='regression')(x)\n",
        "\n",
        "    model = Model(inputs=inputs, outputs=[classification_output, regression_output])\n",
        "    return model\n",
        "\n",
        "# CNN 모델 생성\n",
        "model = build_cnn_model(input_shape, num_classes)\n",
        "\n",
        "# 모델 컴파일\n",
        "losses = {\n",
        "    'classification': 'categorical_crossentropy',  # 분류 작업의 손실 함수\n",
        "    'regression': 'mean_squared_error'  # 회귀 작업의 손실 함수\n",
        "}\n",
        "\n",
        "metrics = {\n",
        "    'classification': 'accuracy',  # 분류 작업의 평가 메트릭\n",
        "    'regression': 'mean_absolute_error'  # 회귀 작업의 평가 메트릭\n",
        "}\n",
        "\n",
        "model.compile(optimizer='adam', loss=losses, metrics=metrics)\n",
        "\n",
        "# 모델 요약 확인\n",
        "model.summary()"
      ],
      "metadata": {
        "id": "rdglLjk7fqkV"
      },
      "execution_count": null,
      "outputs": []
    }
  ]
}