{
  "nbformat": 4,
  "nbformat_minor": 0,
  "metadata": {
    "colab": {
      "provenance": []
    },
    "kernelspec": {
      "name": "python3",
      "display_name": "Python 3"
    },
    "language_info": {
      "name": "python"
    }
  },
  "cells": [
    {
      "cell_type": "code",
      "source": [
        "# !unzip /path/to/ngrok.zip"
      ],
      "metadata": {
        "id": "v3qH5Tj9g9Oe"
      },
      "execution_count": 1,
      "outputs": []
    },
    {
      "cell_type": "code",
      "source": [
        "from google.colab import drive\n",
        "drive.mount('/content/drive')"
      ],
      "metadata": {
        "colab": {
          "base_uri": "https://localhost:8080/"
        },
        "id": "qLfGvznccNX8",
        "outputId": "8bc92ff3-ddec-4698-b081-535a2a9c0799"
      },
      "execution_count": 2,
      "outputs": [
        {
          "output_type": "stream",
          "name": "stdout",
          "text": [
            "Drive already mounted at /content/drive; to attempt to forcibly remount, call drive.mount(\"/content/drive\", force_remount=True).\n"
          ]
        }
      ]
    },
    {
      "cell_type": "code",
      "source": [
        "!ngrok config add-authtoken 비밀입니다"
      ],
      "metadata": {
        "colab": {
          "base_uri": "https://localhost:8080/"
        },
        "id": "fxQAZrssdvMz",
        "outputId": "291e3db3-c916-4f18-a177-4ca1148afa74"
      },
      "execution_count": 3,
      "outputs": [
        {
          "output_type": "stream",
          "name": "stdout",
          "text": [
            "Authtoken saved to configuration file: /root/.ngrok2/ngrok.yml\n"
          ]
        }
      ]
    },
    {
      "cell_type": "code",
      "execution_count": 4,
      "metadata": {
        "id": "BX6F_lcgcAOe"
      },
      "outputs": [],
      "source": [
        "%%capture\n",
        "!pip install fastapi\n",
        "!pip install uvicorn\n",
        "!pip install pyngrok\n",
        "!pip install python-multipart\n",
        "from fastapi import FastAPI, UploadFile, File\n",
        "from pyngrok import ngrok\n",
        "import uvicorn\n",
        "import threading\n",
        "import numpy as np\n",
        "from PIL import Image\n",
        "from tensorflow.keras.models import load_model\n",
        "from tensorflow.keras.preprocessing.image import img_to_array"
      ]
    },
    {
      "cell_type": "code",
      "source": [
        "app = FastAPI(docs_url=\"/docs\")"
      ],
      "metadata": {
        "id": "Js09Jz4-cEfw"
      },
      "execution_count": 5,
      "outputs": []
    },
    {
      "cell_type": "code",
      "source": [
        "# 모델 불러오기\n",
        "model_path = '/content/drive/MyDrive/SW 전문인재양성 2기/개인프로젝트/CNN/bottle/cnn.h5'\n",
        "model = load_model(model_path)"
      ],
      "metadata": {
        "id": "5kCDl8vpcKlu"
      },
      "execution_count": 6,
      "outputs": []
    },
    {
      "cell_type": "code",
      "source": [
        "# 이미지 전처리 함수\n",
        "def preprocess_image(image):\n",
        "    # 이미지 크기 조정\n",
        "    image = image.resize((224, 224))\n",
        "    # 이미지를 배열로 변환\n",
        "    image_array = img_to_array(image)\n",
        "    # 이미지를 모델에 입력하기 위해 차원 확장\n",
        "    image_array = np.expand_dims(image_array, axis=0)\n",
        "    return image_array"
      ],
      "metadata": {
        "id": "QzcAkuJeceH1"
      },
      "execution_count": 7,
      "outputs": []
    },
    {
      "cell_type": "code",
      "source": [
        "# 예측 함수\n",
        "def predict(image):\n",
        "    preprocessed_image = preprocess_image(image)\n",
        "    # 모델을 사용하여 예측\n",
        "    predictions = model.predict(preprocessed_image)\n",
        "    # 결과를 'good' 또는 'bad'로 변환\n",
        "    label = 'good' if predictions[0][0] > 0.5 else 'bad'\n",
        "    return label"
      ],
      "metadata": {
        "id": "6peIcDZscvaP"
      },
      "execution_count": 8,
      "outputs": []
    },
    {
      "cell_type": "code",
      "source": [
        "# FastAPI 엔드포인트\n",
        "@app.get(\"/\")\n",
        "def read_root():\n",
        "    return {\"Hello\": \"World\"}\n"
      ],
      "metadata": {
        "id": "Dd0_EvR7cw8S"
      },
      "execution_count": 9,
      "outputs": []
    },
    {
      "cell_type": "code",
      "source": [
        "# FastAPI 엔드포인트 - 이미지 예측\n",
        "@app.post(\"/predict/\")\n",
        "async def predict_image(file: UploadFile = File(...)):\n",
        "    try:\n",
        "        # 업로드된 파일을 PIL 이미지로 변환\n",
        "        image = Image.open(file.file)\n",
        "        # 예측\n",
        "        label = predict(image)\n",
        "        # 결과 반환\n",
        "        return {\"prediction\": label}\n",
        "    except Exception as e:\n",
        "        return {\"error\": str(e)}\n"
      ],
      "metadata": {
        "id": "kHwQGY0Nc4ug"
      },
      "execution_count": 10,
      "outputs": []
    },
    {
      "cell_type": "code",
      "source": [
        "def run():\n",
        "    uvicorn.run(app, host=\"0.0.0.0\", port=8000)"
      ],
      "metadata": {
        "id": "A-Qf6syZc4i0"
      },
      "execution_count": 11,
      "outputs": []
    },
    {
      "cell_type": "code",
      "source": [
        "# ngrok을 사용하여 포트 8000을 터널링하고 인터넷에 노출\n",
        "url = ngrok.connect(8000)\n",
        "print('Public URL:', url)"
      ],
      "metadata": {
        "colab": {
          "base_uri": "https://localhost:8080/"
        },
        "id": "Gy5ZzdX6dX_A",
        "outputId": "54dd6291-bbb1-4917-a769-0bb31937d4c4"
      },
      "execution_count": 13,
      "outputs": [
        {
          "output_type": "stream",
          "name": "stderr",
          "text": [
            "WARNING:pyngrok.process.ngrok:t=2023-07-21T13:00:47+0000 lvl=warn msg=\"ngrok config file found at legacy location, move to XDG location\" xdg_path=/root/.config/ngrok/ngrok.yml legacy_path=/root/.ngrok2/ngrok.yml\n",
            "WARNING:pyngrok.process.ngrok:t=2023-07-21T13:00:47+0000 lvl=warn msg=\"can't bind default web address, trying alternatives\" obj=web addr=127.0.0.1:4040\n"
          ]
        },
        {
          "output_type": "stream",
          "name": "stdout",
          "text": [
            "Public URL: NgrokTunnel: \"https://7df6-34-74-79-243.ngrok-free.app\" -> \"http://localhost:8000\"\n"
          ]
        }
      ]
    },
    {
      "cell_type": "code",
      "source": [
        "# FastAPI 실행\n",
        "# FastAPI 실행\n",
        "threading.Thread(target=run).start()"
      ],
      "metadata": {
        "colab": {
          "base_uri": "https://localhost:8080/"
        },
        "id": "9Ec7dsn9d4M-",
        "outputId": "f6011a2f-46e9-473c-8b98-fccb7ebcb88a"
      },
      "execution_count": 14,
      "outputs": [
        {
          "output_type": "stream",
          "name": "stderr",
          "text": [
            "INFO:     Started server process [7593]\n",
            "INFO:     Waiting for application startup.\n",
            "INFO:     Application startup complete.\n",
            "INFO:     Uvicorn running on http://0.0.0.0:8000 (Press CTRL+C to quit)\n"
          ]
        }
      ]
    },
    {
      "cell_type": "code",
      "source": [
        "!lsof -i :8000"
      ],
      "metadata": {
        "id": "VMNQntdRdao7"
      },
      "execution_count": null,
      "outputs": []
    },
    {
      "cell_type": "code",
      "source": [
        "# !kill -9"
      ],
      "metadata": {
        "id": "QTRNzo9TdtWp"
      },
      "execution_count": null,
      "outputs": []
    }
  ]
}